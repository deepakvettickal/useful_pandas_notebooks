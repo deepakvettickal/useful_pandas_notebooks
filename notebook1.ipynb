{
 "cells": [
  {
   "cell_type": "code",
   "execution_count": null,
   "metadata": {},
   "outputs": [],
   "source": []
  },
  {
   "attachments": {},
   "cell_type": "markdown",
   "metadata": {},
   "source": [
    "Grouping data by a field, and pivoting the data"
   ]
  },
  {
   "cell_type": "code",
   "execution_count": null,
   "metadata": {},
   "outputs": [],
   "source": [
    "import pandas as pd"
   ]
  },
  {
   "cell_type": "code",
   "execution_count": null,
   "metadata": {},
   "outputs": [],
   "source": [
    "df = pd.DataFrame()\n",
    "grouped_bq_data = df.groupby('timestamp')    \n",
    "df_list = [grouped_bq_data.get_group(x) for x in grouped_bq_data.groups]\n",
    "\n",
    "pivoted_df_list = []\n",
    "for df in df_list:\n",
    "    pivoted_df_list.append(df.pivot_table(columns=['variable'], index = ['timestamp']))\n",
    "\n",
    "pd.concat(pivoted_df_list) # return the merged df"
   ]
  }
 ],
 "metadata": {
  "language_info": {
   "name": "python"
  },
  "orig_nbformat": 4
 },
 "nbformat": 4,
 "nbformat_minor": 2
}
